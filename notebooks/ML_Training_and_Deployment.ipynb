{
  "cells": [
    {
      "cell_type": "markdown",
      "metadata": {},
      "source": [
        "# 🛡️ Cybersecurity ML Training & Deployment\n",
        "\n",
        "This notebook demonstrates advanced machine learning for cybersecurity using **Snowpark ML** and **Snowflake Model Registry**.\n",
        "\n",
        "## 🎯 What This Notebook Does\n",
        "\n",
        "1. **Isolation Forest**: Detects anomalous user behavior patterns\n",
        "2. **K-means Clustering**: Groups users into behavioral personas  \n",
        "3. **Model Registry**: Enterprise-grade model management\n",
        "4. **UDF Deployment**: Deploy models as scalable functions\n",
        "5. **Hybrid Analysis**: Combine multiple ML approaches\n",
        "\n",
        "## 📋 Prerequisites\n",
        "\n",
        "Before running this notebook, ensure you have:\n",
        "1. ✅ Run `sql/01_cybersecurity_schema.sql` \n",
        "2. ✅ Run `sql/02_sample_data_generation.sql`\n",
        "3. ✅ Run `sql/03_native_ml_and_cortex.sql`\n",
        "\n",
        "---\n"
      ]
    },
    {
      "cell_type": "markdown",
      "metadata": {},
      "source": [
        "## 🔧 Environment Setup\n"
      ]
    },
    {
      "cell_type": "code",
      "execution_count": null,
      "metadata": {},
      "outputs": [],
      "source": [
        "# Import required libraries\n",
        "import snowflake.snowpark as snowpark\n",
        "from snowflake.snowpark import Session\n",
        "from snowflake.snowpark.functions import col, lit, when, avg, count, max as max_, min as min_\n",
        "from snowflake.snowpark.types import StructType, StructField, StringType, FloatType, IntegerType, BooleanType\n",
        "\n",
        "# Snowpark ML imports\n",
        "from snowflake.ml.modeling.ensemble import IsolationForest\n",
        "from snowflake.ml.modeling.cluster import KMeans\n",
        "from snowflake.ml.modeling.preprocessing import StandardScaler\n",
        "from snowflake.ml.registry import Registry\n",
        "\n",
        "# Data science libraries\n",
        "import pandas as pd\n",
        "import numpy as np\n",
        "from datetime import datetime, timedelta\n",
        "import json\n",
        "\n",
        "print(\"📦 All libraries imported successfully!\")\n"
      ]
    },
    {
      "cell_type": "code",
      "execution_count": null,
      "metadata": {},
      "outputs": [],
      "source": [
        "# Initialize Snowflake session (auto-connects in Snowflake Notebooks)\n",
        "session = snowflake.snowpark.context.get_active_session()\n",
        "\n",
        "# Set up database context\n",
        "session.sql(\"USE DATABASE CYBERSECURITY_DEMO\").collect()\n",
        "session.sql(\"USE SCHEMA SECURITY_ANALYTICS\").collect()\n",
        "session.sql(\"USE WAREHOUSE CYBERSECURITY_WH\").collect()\n",
        "\n",
        "print(\"🔗 Connected to Snowflake session\")\n",
        "print(f\"📊 Current database: {session.get_current_database()}\")\n",
        "print(f\"📁 Current schema: {session.get_current_schema()}\")\n"
      ]
    },
    {
      "cell_type": "markdown",
      "metadata": {},
      "source": [
        "## 📊 Data Preparation for ML\n",
        "\n",
        "*The ML models require feature engineering to extract behavioral patterns from raw authentication logs.*\n"
      ]
    },
    {
      "cell_type": "code",
      "execution_count": null,
      "metadata": {},
      "outputs": [],
      "source": [
        "# Create feature engineering view for ML models\n",
        "feature_query = \"\"\"\n",
        "CREATE OR REPLACE VIEW ML_FEATURE_SET AS\n",
        "SELECT \n",
        "    ual.USERNAME,\n",
        "    \n",
        "    -- Behavioral features\n",
        "    COUNT(*) as TOTAL_LOGINS,\n",
        "    AVG(CASE WHEN ual.SUCCESS THEN 1 ELSE 0 END) as SUCCESS_RATE,\n",
        "    COUNT(CASE WHEN ual.SUCCESS = FALSE THEN 1 END) as FAILED_ATTEMPTS,\n",
        "    \n",
        "    -- Temporal features\n",
        "    COUNT(CASE WHEN EXTRACT(hour FROM ual.TIMESTAMP) BETWEEN 22 AND 6 THEN 1 END) as OFF_HOURS_LOGINS,\n",
        "    COUNT(CASE WHEN EXTRACT(dow FROM ual.TIMESTAMP) IN (0,6) THEN 1 END) as WEEKEND_LOGINS,\n",
        "    \n",
        "    -- Geographic features\n",
        "    COUNT(DISTINCT ual.SOURCE_IP) as UNIQUE_IPS,\n",
        "    COUNT(DISTINCT ual.LOCATION:country::STRING) as UNIQUE_COUNTRIES,\n",
        "    \n",
        "    -- Security features\n",
        "    AVG(CASE WHEN ual.TWO_FACTOR_USED THEN 1 ELSE 0 END) as TWO_FACTOR_RATE,\n",
        "    COUNT(DISTINCT ual.USER_AGENT) as UNIQUE_DEVICES,\n",
        "    \n",
        "    -- Organizational context\n",
        "    ed.DEPARTMENT,\n",
        "    ed.ROLE,\n",
        "    ed.SECURITY_CLEARANCE,\n",
        "    DATEDIFF(day, ed.HIRE_DATE, CURRENT_DATE()) as TENURE_DAYS\n",
        "    \n",
        "FROM USER_AUTHENTICATION_LOGS ual\n",
        "JOIN EMPLOYEE_DATA ed ON ual.USERNAME = ed.USERNAME\n",
        "WHERE ual.TIMESTAMP >= DATEADD(day, -30, CURRENT_TIMESTAMP())\n",
        "    AND ed.STATUS = 'active'\n",
        "GROUP BY ual.USERNAME, ed.DEPARTMENT, ed.ROLE, ed.SECURITY_CLEARANCE, ed.HIRE_DATE\n",
        "HAVING COUNT(*) >= 5  -- Filter users with sufficient activity\n",
        "\"\"\"\n",
        "\n",
        "session.sql(feature_query).collect()\n",
        "print(\"🔧 Feature engineering view created\")\n",
        "\n",
        "# Load feature data into Snowpark DataFrame\n",
        "feature_df = session.table('ML_FEATURE_SET')\n",
        "print(f\"📈 Feature dataset: {feature_df.count()} users with behavioral features\")\n",
        "\n",
        "# Show sample of features\n",
        "feature_df.limit(5).show()\n"
      ]
    }
  ],
  "metadata": {
    "language_info": {
      "name": "python"
    }
  },
  "nbformat": 4,
  "nbformat_minor": 2
}
